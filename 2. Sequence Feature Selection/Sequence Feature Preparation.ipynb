{
 "cells": [
  {
   "cell_type": "code",
   "execution_count": null,
   "metadata": {},
   "outputs": [],
   "source": [
    "import os"
   ]
  },
  {
   "cell_type": "code",
   "execution_count": null,
   "metadata": {
    "scrolled": true
   },
   "outputs": [],
   "source": [
    "bucket_root = os.environ['WORKSPACE_BUCKET']\n",
    "print(bucket_root)\n",
    "\n",
    "!gsutil ls gs:"
   ]
  },
  {
   "cell_type": "code",
   "execution_count": null,
   "metadata": {
    "scrolled": false
   },
   "outputs": [],
   "source": [
    "# Import search list and MSA Transformer learned embedding library. \n",
    "!gsutil cp gs:/INPUT_LIST.csv\n",
    "!gsutil cp gs:/LIBRARY.csv"
   ]
  },
  {
   "cell_type": "code",
   "execution_count": null,
   "metadata": {
    "code_folding": []
   },
   "outputs": [],
   "source": [
    "%%sh\n",
    "\n",
    "# Script to search the first column of a library for strings provided from a list. \n",
    "# Returns the entire index of any identified strings in the form of a new list. \n",
    "# Written by Joshua Charles Jones (https://github.com/fishnibble).\n",
    "\n",
    "# Assigning arguments to variables\n",
    "\n",
    "# Library file\n",
    "export input=\"LIBRARY.csv\"\n",
    "# File name for MSA embeddings for variants in the provided list\n",
    "export output=\"OUTPUT_LIST.csv\"\n",
    "# File name for library minus those in the provided list\n",
    "export filtered_data=\"LIBRARY_MINUS_LIST.csv\"\n",
    "# List of variants (include 1 line header)\n",
    "export keywords=\"INPUT_LIST.csv\"\n",
    "\n",
    "export output=\"${output}\"\n",
    "export output_non_matching=\"${filtered_data}\"\n",
    "\n",
    "echo \"Let me find that for you! :)\"\n",
    "\n",
    "awk -F, 'NR==FNR{sub(/\\r$/,\"\"); keys[$1]; next} $1 in keys{print > ENVIRON[\"output\"]; next} {print > ENVIRON[\"output_non_matching\"]}' ${keywords} ${input}\n",
    "\n",
    "echo \"Found them and split files! Output written to ${output} and ${filtered_data}\""
   ]
  },
  {
   "cell_type": "code",
   "execution_count": null,
   "metadata": {
    "scrolled": true
   },
   "outputs": [],
   "source": [
    "!gsutil mv ./OUTPUT_LIST.csv gs:\n",
    "!gsutil mv ./msa_transformer_with_combo_MINUS_LIST.csv gs:"
   ]
  }
 ],
 "metadata": {
  "kernelspec": {
   "display_name": "Python 3",
   "language": "python",
   "name": "python3"
  },
  "language_info": {
   "codemirror_mode": {
    "name": "ipython",
    "version": 3
   },
   "file_extension": ".py",
   "mimetype": "text/x-python",
   "name": "python",
   "nbconvert_exporter": "python",
   "pygments_lexer": "ipython3",
   "version": "3.10.12"
  },
  "toc": {
   "base_numbering": 1,
   "nav_menu": {},
   "number_sections": true,
   "sideBar": true,
   "skip_h1_title": false,
   "title_cell": "Table of Contents",
   "title_sidebar": "Contents",
   "toc_cell": false,
   "toc_position": {},
   "toc_section_display": true,
   "toc_window_display": false
  }
 },
 "nbformat": 4,
 "nbformat_minor": 2
}
